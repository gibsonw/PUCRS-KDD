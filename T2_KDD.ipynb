{
  "nbformat": 4,
  "nbformat_minor": 0,
  "metadata": {
    "colab": {
      "name": "T2-KDD.ipynb",
      "version": "0.3.2",
      "provenance": [],
      "include_colab_link": true
    },
    "kernelspec": {
      "name": "python3",
      "display_name": "Python 3"
    }
  },
  "cells": [
    {
      "cell_type": "markdown",
      "metadata": {
        "id": "view-in-github",
        "colab_type": "text"
      },
      "source": [
        "<a href=\"https://colab.research.google.com/github/gibsonw/PUCRS-KDD/blob/master/T2_KDD.ipynb\" target=\"_parent\"><img src=\"https://colab.research.google.com/assets/colab-badge.svg\" alt=\"Open In Colab\"/></a>"
      ]
    },
    {
      "cell_type": "code",
      "metadata": {
        "id": "IyMyIQynzbl5",
        "colab_type": "code",
        "colab": {}
      },
      "source": [
        "import pandas as pd"
      ],
      "execution_count": 0,
      "outputs": []
    },
    {
      "cell_type": "code",
      "metadata": {
        "id": "G0LS2Lzb9vP7",
        "colab_type": "code",
        "colab": {}
      },
      "source": [
        "# import dos datasets\n",
        "df_arenas = pd.read_csv('https://raw.githubusercontent.com/gibsonw/PUCRS-KDD/master/arenas.csv')\n",
        "df_clubes = pd.read_csv('https://raw.githubusercontent.com/gibsonw/PUCRS-KDD/master/clubes.csv')\n",
        "df_estados = pd.read_csv('https://raw.githubusercontent.com/gibsonw/PUCRS-KDD/master/estados.csv')\n",
        "df_jogos_2013 = pd.read_csv('https://raw.githubusercontent.com/gibsonw/PUCRS-KDD/master/jogos_2013.csv')\n",
        "df_jogos_2014 = pd.read_csv('https://raw.githubusercontent.com/gibsonw/PUCRS-KDD/master/jogos_2014.csv')\n",
        "df_jogos_2015 = pd.read_csv('https://raw.githubusercontent.com/gibsonw/PUCRS-KDD/master/jogos_2015.csv')\n",
        "df_jogos_2016 = pd.read_csv('https://raw.githubusercontent.com/gibsonw/PUCRS-KDD/master/jogos_2016.csv')\n",
        "df_jogos_2017 = pd.read_csv('https://raw.githubusercontent.com/gibsonw/PUCRS-KDD/master/jogos_2017.csv')\n",
        "\n",
        "df_estados = df_estados.drop(['desc_estado'], axis=1)\n"
      ],
      "execution_count": 0,
      "outputs": []
    },
    {
      "cell_type": "code",
      "metadata": {
        "id": "mIItb0Yl0gBG",
        "colab_type": "code",
        "colab": {}
      },
      "source": [
        "# concat dos df dos jogos\n",
        "df_jogos_full = pd.concat([df_jogos_2013,df_jogos_2014,df_jogos_2015,df_jogos_2016,df_jogos_2017])"
      ],
      "execution_count": 0,
      "outputs": []
    },
    {
      "cell_type": "code",
      "metadata": {
        "id": "3-_d-5P8Bh2z",
        "colab_type": "code",
        "colab": {}
      },
      "source": [
        "# join / merge dos df\n",
        "df_jogos_full_merged = pd.merge(left=df_jogos_full, right=df_clubes, how='inner', left_on=['id_clube1'], right_on='id_clube')\n",
        "df_jogos_full_merged = pd.merge(left=df_jogos_full_merged, right=df_clubes,  left_on='id_clube2', right_on='id_clube')\n",
        "df_jogos_full_merged = pd.merge(left=df_jogos_full_merged, right=df_clubes,  left_on='id_clube_vencedor', right_on='id_clube')\n",
        "df_jogos_full_merged = pd.merge(left=df_jogos_full_merged, right=df_estados,  left_on='id_estado_clube1', right_on='id_estado')\n",
        "df_jogos_full_merged = pd.merge(left=df_jogos_full_merged, right=df_estados,  left_on='id_estado_clube2', right_on='id_estado')\n",
        "df_jogos_full_merged = pd.merge(left=df_jogos_full_merged, right=df_estados,  left_on='id_estado_vencedor', right_on='id_estado')\n",
        "df_jogos_full_merged['maior_goleada1'] = df_jogos_full_merged['qtd_gols_clube1'] - df_jogos_full_merged['qtd_gols_clube2']\n",
        "df_jogos_full_merged['maior_goleada2'] = df_jogos_full_merged['qtd_gols_clube2'] - df_jogos_full_merged['qtd_gols_clube1']\n",
        "df_jogos_full_merged['data_ano'] = df_jogos_full_merged['data'].str.slice(start=6)\n",
        "df_jogos_full_merged['total_gols'] = df_jogos_full_merged['qtd_gols_clube2'] + df_jogos_full_merged['qtd_gols_clube1']\n",
        "\n",
        "\n",
        "ren_col = {'desc_clube_x':'clube_1','desc_clube_y':'clube_2','desc_clube':'clube_vencedor','sigla_x':'estado_clube1','sigla_y':'estado_clube2','sigla':'estado_clube_vencedor'}\n",
        "df_jogos_full_merged.rename(columns=ren_col, inplace=True)\n",
        "df_jogos_full_merged = df_jogos_full_merged.drop(['id_clube_x','id_clube_y','id_estado','id_estado_y','id_estado_x','id_clube','id_clube_y','id_estado_clube2','dia','horario','rodada'], axis=1)\n"
      ],
      "execution_count": 0,
      "outputs": []
    },
    {
      "cell_type": "code",
      "metadata": {
        "id": "X23xZ4fAB6pV",
        "colab_type": "code",
        "outputId": "44a73619-4ecd-46ad-df2a-69cb3bc2f5bf",
        "colab": {
          "base_uri": "https://localhost:8080/",
          "height": 196
        }
      },
      "source": [
        "# a. Qual o clube que mais marcou gols em todas as temporadas?\n",
        "\n",
        "df_clube_gols = df_jogos_full_merged.groupby(['clube_1']).agg({'qtd_gols_clube1': ['sum']})\n",
        "df_clube_gols = df_clube_gols.append(pd.DataFrame(df_jogos_full_merged.groupby(['clube_2']).agg({'qtd_gols_clube2': ['sum']})))\n",
        "df_clube_gols.fillna(0,inplace=True)\n",
        "df_clube_gols.reset_index(inplace=True)\n",
        "df_clube_gols = df_clube_gols.groupby(['index']).sum()\n",
        "df_clube_gols['Qtd_gols_total'] = df_clube_gols.sum(axis = 1)\n",
        "df_clube_gols.rename(columns={'qtd_gols_clube1':'qtd_gols_casa','qtd_gols_clube2':'qtd_gols_fora'}, inplace=True)\n",
        "df_clube_gols.sort_values('Qtd_gols_total', ascending=False)[:1]"
      ],
      "execution_count": 5,
      "outputs": [
        {
          "output_type": "stream",
          "text": [
            "/usr/local/lib/python3.6/dist-packages/pandas/core/generic.py:3812: PerformanceWarning: dropping on a non-lexsorted multi-index without a level parameter may impact performance.\n",
            "  new_axis = axis.drop(labels, errors=errors)\n"
          ],
          "name": "stderr"
        },
        {
          "output_type": "execute_result",
          "data": {
            "text/html": [
              "<div>\n",
              "<style scoped>\n",
              "    .dataframe tbody tr th:only-of-type {\n",
              "        vertical-align: middle;\n",
              "    }\n",
              "\n",
              "    .dataframe tbody tr th {\n",
              "        vertical-align: top;\n",
              "    }\n",
              "\n",
              "    .dataframe thead tr th {\n",
              "        text-align: left;\n",
              "    }\n",
              "\n",
              "    .dataframe thead tr:last-of-type th {\n",
              "        text-align: right;\n",
              "    }\n",
              "</style>\n",
              "<table border=\"1\" class=\"dataframe\">\n",
              "  <thead>\n",
              "    <tr>\n",
              "      <th></th>\n",
              "      <th>qtd_gols_casa</th>\n",
              "      <th>qtd_gols_fora</th>\n",
              "      <th>Qtd_gols_total</th>\n",
              "    </tr>\n",
              "    <tr>\n",
              "      <th></th>\n",
              "      <th>sum</th>\n",
              "      <th>sum</th>\n",
              "      <th></th>\n",
              "    </tr>\n",
              "    <tr>\n",
              "      <th>index</th>\n",
              "      <th></th>\n",
              "      <th></th>\n",
              "      <th></th>\n",
              "    </tr>\n",
              "  </thead>\n",
              "  <tbody>\n",
              "    <tr>\n",
              "      <th>Cruzeiro</th>\n",
              "      <td>173.0</td>\n",
              "      <td>110.0</td>\n",
              "      <td>283.0</td>\n",
              "    </tr>\n",
              "  </tbody>\n",
              "</table>\n",
              "</div>"
            ],
            "text/plain": [
              "         qtd_gols_casa qtd_gols_fora Qtd_gols_total\n",
              "                   sum           sum               \n",
              "index                                              \n",
              "Cruzeiro         173.0         110.0          283.0"
            ]
          },
          "metadata": {
            "tags": []
          },
          "execution_count": 5
        }
      ]
    },
    {
      "cell_type": "code",
      "metadata": {
        "id": "N6TBs-zwB-KH",
        "colab_type": "code",
        "outputId": "727628c8-4118-4926-bc43-39beca3c416a",
        "colab": {
          "base_uri": "https://localhost:8080/",
          "height": 196
        }
      },
      "source": [
        "# b. Qual o clube que mais marcou gols na temporada de 2015?\n",
        "\n",
        "df_jogos_full_merged_2015 = df_jogos_full_merged.loc[(df_jogos_full_merged['data_ano']=='2015')]\n",
        "df_clube_gols_2015 = df_jogos_full_merged_2015.groupby(['clube_1']).agg({'qtd_gols_clube1': ['sum']})\n",
        "df_clube_gols_2015 = df_clube_gols_2015.append(pd.DataFrame(df_jogos_full_merged_2015.groupby(['clube_2']).agg({'qtd_gols_clube2': ['sum']})))\n",
        "df_clube_gols_2015.fillna(0,inplace=True)\n",
        "df_clube_gols_2015.reset_index(inplace=True)\n",
        "df_clube_gols_2015 = df_clube_gols_2015.groupby(['index']).sum()\n",
        "df_clube_gols_2015.rename(columns={'qtd_gols_clube1':'qtd_gols_casa','qtd_gols_clube2':'qtd_gols_fora'}, inplace=True)\n",
        "df_clube_gols_2015['Qtd_gols_total'] = df_clube_gols_2015.sum(axis = 1)\n",
        "df_clube_gols_2015.sort_values('Qtd_gols_total', ascending=False)[:1]\n"
      ],
      "execution_count": 6,
      "outputs": [
        {
          "output_type": "stream",
          "text": [
            "/usr/local/lib/python3.6/dist-packages/pandas/core/generic.py:3812: PerformanceWarning: dropping on a non-lexsorted multi-index without a level parameter may impact performance.\n",
            "  new_axis = axis.drop(labels, errors=errors)\n"
          ],
          "name": "stderr"
        },
        {
          "output_type": "execute_result",
          "data": {
            "text/html": [
              "<div>\n",
              "<style scoped>\n",
              "    .dataframe tbody tr th:only-of-type {\n",
              "        vertical-align: middle;\n",
              "    }\n",
              "\n",
              "    .dataframe tbody tr th {\n",
              "        vertical-align: top;\n",
              "    }\n",
              "\n",
              "    .dataframe thead tr th {\n",
              "        text-align: left;\n",
              "    }\n",
              "\n",
              "    .dataframe thead tr:last-of-type th {\n",
              "        text-align: right;\n",
              "    }\n",
              "</style>\n",
              "<table border=\"1\" class=\"dataframe\">\n",
              "  <thead>\n",
              "    <tr>\n",
              "      <th></th>\n",
              "      <th>qtd_gols_casa</th>\n",
              "      <th>qtd_gols_fora</th>\n",
              "      <th>Qtd_gols_total</th>\n",
              "    </tr>\n",
              "    <tr>\n",
              "      <th></th>\n",
              "      <th>sum</th>\n",
              "      <th>sum</th>\n",
              "      <th></th>\n",
              "    </tr>\n",
              "    <tr>\n",
              "      <th>index</th>\n",
              "      <th></th>\n",
              "      <th></th>\n",
              "      <th></th>\n",
              "    </tr>\n",
              "  </thead>\n",
              "  <tbody>\n",
              "    <tr>\n",
              "      <th>Corinthians</th>\n",
              "      <td>41.0</td>\n",
              "      <td>30.0</td>\n",
              "      <td>71.0</td>\n",
              "    </tr>\n",
              "  </tbody>\n",
              "</table>\n",
              "</div>"
            ],
            "text/plain": [
              "            qtd_gols_casa qtd_gols_fora Qtd_gols_total\n",
              "                      sum           sum               \n",
              "index                                                 \n",
              "Corinthians          41.0          30.0           71.0"
            ]
          },
          "metadata": {
            "tags": []
          },
          "execution_count": 6
        }
      ]
    },
    {
      "cell_type": "code",
      "metadata": {
        "id": "Nh7yjoBzCCMp",
        "colab_type": "code",
        "outputId": "242ac1e8-14fb-4870-d4d9-a5f3eb82c27c",
        "colab": {
          "base_uri": "https://localhost:8080/",
          "height": 204
        }
      },
      "source": [
        "# c. Qual o jogo onde houveram mais gols, em todas as temporadas?\n",
        "\n",
        "df_jogos_qtd_gols = pd.DataFrame(df_jogos_full_merged)\n",
        "df_jogos_qtd_gols['total_gols'] = df_jogos_qtd_gols['qtd_gols_clube2'] + df_jogos_qtd_gols['qtd_gols_clube1']\n",
        "df_jogos_qtd_gols[['data','clube_1','clube_2','qtd_gols_clube1','qtd_gols_clube2','total_gols']].sort_values('total_gols', ascending=False)[:5]\n"
      ],
      "execution_count": 7,
      "outputs": [
        {
          "output_type": "execute_result",
          "data": {
            "text/html": [
              "<div>\n",
              "<style scoped>\n",
              "    .dataframe tbody tr th:only-of-type {\n",
              "        vertical-align: middle;\n",
              "    }\n",
              "\n",
              "    .dataframe tbody tr th {\n",
              "        vertical-align: top;\n",
              "    }\n",
              "\n",
              "    .dataframe thead th {\n",
              "        text-align: right;\n",
              "    }\n",
              "</style>\n",
              "<table border=\"1\" class=\"dataframe\">\n",
              "  <thead>\n",
              "    <tr style=\"text-align: right;\">\n",
              "      <th></th>\n",
              "      <th>data</th>\n",
              "      <th>clube_1</th>\n",
              "      <th>clube_2</th>\n",
              "      <th>qtd_gols_clube1</th>\n",
              "      <th>qtd_gols_clube2</th>\n",
              "      <th>total_gols</th>\n",
              "    </tr>\n",
              "  </thead>\n",
              "  <tbody>\n",
              "    <tr>\n",
              "      <th>565</th>\n",
              "      <td>08/06/2017</td>\n",
              "      <td>Chapecoense</td>\n",
              "      <td>Grêmio</td>\n",
              "      <td>3</td>\n",
              "      <td>6</td>\n",
              "      <td>9</td>\n",
              "    </tr>\n",
              "    <tr>\n",
              "      <th>1814</th>\n",
              "      <td>11/09/2016</td>\n",
              "      <td>Sport</td>\n",
              "      <td>Santa Cruz</td>\n",
              "      <td>5</td>\n",
              "      <td>3</td>\n",
              "      <td>8</td>\n",
              "    </tr>\n",
              "    <tr>\n",
              "      <th>1821</th>\n",
              "      <td>14/05/2017</td>\n",
              "      <td>Bahia</td>\n",
              "      <td>Atlético-PR</td>\n",
              "      <td>6</td>\n",
              "      <td>2</td>\n",
              "      <td>8</td>\n",
              "    </tr>\n",
              "    <tr>\n",
              "      <th>532</th>\n",
              "      <td>29/09/2013</td>\n",
              "      <td>Atlético-PR</td>\n",
              "      <td>Vitória</td>\n",
              "      <td>3</td>\n",
              "      <td>5</td>\n",
              "      <td>8</td>\n",
              "    </tr>\n",
              "    <tr>\n",
              "      <th>1721</th>\n",
              "      <td>26/10/2013</td>\n",
              "      <td>Cruzeiro</td>\n",
              "      <td>Criciúma</td>\n",
              "      <td>5</td>\n",
              "      <td>3</td>\n",
              "      <td>8</td>\n",
              "    </tr>\n",
              "  </tbody>\n",
              "</table>\n",
              "</div>"
            ],
            "text/plain": [
              "            data      clube_1  ... qtd_gols_clube2  total_gols\n",
              "565   08/06/2017  Chapecoense  ...               6           9\n",
              "1814  11/09/2016        Sport  ...               3           8\n",
              "1821  14/05/2017        Bahia  ...               2           8\n",
              "532   29/09/2013  Atlético-PR  ...               5           8\n",
              "1721  26/10/2013     Cruzeiro  ...               3           8\n",
              "\n",
              "[5 rows x 6 columns]"
            ]
          },
          "metadata": {
            "tags": []
          },
          "execution_count": 7
        }
      ]
    },
    {
      "cell_type": "code",
      "metadata": {
        "id": "N8MXejyBCEh0",
        "colab_type": "code",
        "outputId": "08ac29da-93b1-4579-d0b0-0a07441b59ab",
        "colab": {
          "base_uri": "https://localhost:8080/",
          "height": 204
        }
      },
      "source": [
        "# d. Qual foi a maior goleada de todas as temporadas? Maior goleada nesse contexto é igual\n",
        "# a maior diferença de gols entre o que um time marcou em relação ao outro.\n",
        "\n",
        "df_jogos_maior_goleada = pd.DataFrame(df_jogos_full_merged)\n",
        "df_jogos_maior_goleada['maior_goleada1'] = df_jogos_maior_goleada['maior_goleada1'].abs()\n",
        "df_jogos_maior_goleada.head()\n",
        "df_jogos_maior_goleada_colunas = ['data','clube_1','clube_2','qtd_gols_clube1','qtd_gols_clube2','total_gols','maior_goleada1']\n",
        "df_jogos_maior_goleada[df_jogos_maior_goleada_colunas].sort_values('maior_goleada1', ascending=False)[:5]\n"
      ],
      "execution_count": 8,
      "outputs": [
        {
          "output_type": "execute_result",
          "data": {
            "text/html": [
              "<div>\n",
              "<style scoped>\n",
              "    .dataframe tbody tr th:only-of-type {\n",
              "        vertical-align: middle;\n",
              "    }\n",
              "\n",
              "    .dataframe tbody tr th {\n",
              "        vertical-align: top;\n",
              "    }\n",
              "\n",
              "    .dataframe thead th {\n",
              "        text-align: right;\n",
              "    }\n",
              "</style>\n",
              "<table border=\"1\" class=\"dataframe\">\n",
              "  <thead>\n",
              "    <tr style=\"text-align: right;\">\n",
              "      <th></th>\n",
              "      <th>data</th>\n",
              "      <th>clube_1</th>\n",
              "      <th>clube_2</th>\n",
              "      <th>qtd_gols_clube1</th>\n",
              "      <th>qtd_gols_clube2</th>\n",
              "      <th>total_gols</th>\n",
              "      <th>maior_goleada1</th>\n",
              "    </tr>\n",
              "  </thead>\n",
              "  <tbody>\n",
              "    <tr>\n",
              "      <th>884</th>\n",
              "      <td>10/05/2014</td>\n",
              "      <td>Botafogo</td>\n",
              "      <td>Criciúma</td>\n",
              "      <td>6</td>\n",
              "      <td>0</td>\n",
              "      <td>6</td>\n",
              "      <td>6</td>\n",
              "    </tr>\n",
              "    <tr>\n",
              "      <th>1871</th>\n",
              "      <td>21/09/2014</td>\n",
              "      <td>Goiás</td>\n",
              "      <td>Palmeiras</td>\n",
              "      <td>6</td>\n",
              "      <td>0</td>\n",
              "      <td>6</td>\n",
              "      <td>6</td>\n",
              "    </tr>\n",
              "    <tr>\n",
              "      <th>615</th>\n",
              "      <td>02/09/2015</td>\n",
              "      <td>Internacional</td>\n",
              "      <td>Vasco</td>\n",
              "      <td>6</td>\n",
              "      <td>0</td>\n",
              "      <td>6</td>\n",
              "      <td>6</td>\n",
              "    </tr>\n",
              "    <tr>\n",
              "      <th>1303</th>\n",
              "      <td>09/10/2014</td>\n",
              "      <td>Chapecoense</td>\n",
              "      <td>Internacional</td>\n",
              "      <td>5</td>\n",
              "      <td>0</td>\n",
              "      <td>5</td>\n",
              "      <td>5</td>\n",
              "    </tr>\n",
              "    <tr>\n",
              "      <th>1559</th>\n",
              "      <td>24/11/2013</td>\n",
              "      <td>Atlético-PR</td>\n",
              "      <td>Náutico</td>\n",
              "      <td>6</td>\n",
              "      <td>1</td>\n",
              "      <td>7</td>\n",
              "      <td>5</td>\n",
              "    </tr>\n",
              "  </tbody>\n",
              "</table>\n",
              "</div>"
            ],
            "text/plain": [
              "            data        clube_1  ... total_gols  maior_goleada1\n",
              "884   10/05/2014       Botafogo  ...          6               6\n",
              "1871  21/09/2014          Goiás  ...          6               6\n",
              "615   02/09/2015  Internacional  ...          6               6\n",
              "1303  09/10/2014    Chapecoense  ...          5               5\n",
              "1559  24/11/2013    Atlético-PR  ...          7               5\n",
              "\n",
              "[5 rows x 7 columns]"
            ]
          },
          "metadata": {
            "tags": []
          },
          "execution_count": 8
        }
      ]
    },
    {
      "cell_type": "code",
      "metadata": {
        "id": "iB48za2hCHml",
        "colab_type": "code",
        "outputId": "46907191-6bfb-448b-ad0f-066fb37c4612",
        "colab": {
          "base_uri": "https://localhost:8080/",
          "height": 111
        }
      },
      "source": [
        "# e. Qual foi o estado mais vitorioso (quantidade de partidas) em 2016?\n",
        "\n",
        "df_UF_vencedor_2016 = df_jogos_full_merged.loc[(df_jogos_full_merged['data_ano']=='2016') & (df_jogos_full_merged['estado_clube_vencedor']!='XX')]\n",
        "df_UF_vencedor_2016_colunas = ['data','clube_1','clube_2','estado_clube_vencedor','qtd_gols_clube1','qtd_gols_clube2','total_gols']\n",
        "df_UF_vencedor_2016 = pd.DataFrame(df_UF_vencedor_2016[df_UF_vencedor_2016_colunas])\n",
        "df_UF_vencedor_2016.groupby(['estado_clube_vencedor']).agg({'estado_clube_vencedor': ['count']})['estado_clube_vencedor'].sort_values('count', ascending=False)[:1]\n",
        "\n"
      ],
      "execution_count": 9,
      "outputs": [
        {
          "output_type": "execute_result",
          "data": {
            "text/html": [
              "<div>\n",
              "<style scoped>\n",
              "    .dataframe tbody tr th:only-of-type {\n",
              "        vertical-align: middle;\n",
              "    }\n",
              "\n",
              "    .dataframe tbody tr th {\n",
              "        vertical-align: top;\n",
              "    }\n",
              "\n",
              "    .dataframe thead th {\n",
              "        text-align: right;\n",
              "    }\n",
              "</style>\n",
              "<table border=\"1\" class=\"dataframe\">\n",
              "  <thead>\n",
              "    <tr style=\"text-align: right;\">\n",
              "      <th></th>\n",
              "      <th>count</th>\n",
              "    </tr>\n",
              "    <tr>\n",
              "      <th>estado_clube_vencedor</th>\n",
              "      <th></th>\n",
              "    </tr>\n",
              "  </thead>\n",
              "  <tbody>\n",
              "    <tr>\n",
              "      <th>SP</th>\n",
              "      <td>90</td>\n",
              "    </tr>\n",
              "  </tbody>\n",
              "</table>\n",
              "</div>"
            ],
            "text/plain": [
              "                       count\n",
              "estado_clube_vencedor       \n",
              "SP                        90"
            ]
          },
          "metadata": {
            "tags": []
          },
          "execution_count": 9
        }
      ]
    },
    {
      "cell_type": "code",
      "metadata": {
        "id": "k6rjzMEaHDTr",
        "colab_type": "code",
        "colab": {}
      },
      "source": [
        ""
      ],
      "execution_count": 0,
      "outputs": []
    }
  ]
}